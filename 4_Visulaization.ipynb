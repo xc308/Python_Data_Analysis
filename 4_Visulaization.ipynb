{
  "nbformat": 4,
  "nbformat_minor": 0,
  "metadata": {
    "colab": {
      "provenance": [],
      "authorship_tag": "ABX9TyNJfPdsNR1mPZl6Dd9wELuv",
      "include_colab_link": true
    },
    "kernelspec": {
      "name": "python3",
      "display_name": "Python 3"
    },
    "language_info": {
      "name": "python"
    }
  },
  "cells": [
    {
      "cell_type": "markdown",
      "metadata": {
        "id": "view-in-github",
        "colab_type": "text"
      },
      "source": [
        "<a href=\"https://colab.research.google.com/github/xc308/Python_Data_Analysis/blob/main/4_Visulaization.ipynb\" target=\"_parent\"><img src=\"https://colab.research.google.com/assets/colab-badge.svg\" alt=\"Open In Colab\"/></a>"
      ]
    },
    {
      "cell_type": "code",
      "execution_count": 2,
      "metadata": {
        "id": "Ywnun4JVjrer"
      },
      "outputs": [],
      "source": [
        "import matplotlib.pyplot as plt\n",
        "import pandas as pd\n"
      ]
    },
    {
      "cell_type": "code",
      "source": [
        "# 1. select and order data\n",
        "sorted_grades = df_grads[\"grad\"].values_counts().sort_index()"
      ],
      "metadata": {
        "id": "hG-qfpPKncsu"
      },
      "execution_count": null,
      "outputs": []
    },
    {
      "cell_type": "code",
      "source": [
        "# 2. stack command to improve visualisation\n",
        "\n",
        "sorted_grades.plot(kind=\"bar\")\n",
        "\n",
        "plt.xlab(\"\")\n",
        "plt.ylab(\"Frequency\")\n",
        "plt.title(\"Freq of Loan by Grades\")\n",
        "\n"
      ],
      "metadata": {
        "id": "_k5lgIswnpLu"
      },
      "execution_count": null,
      "outputs": []
    },
    {
      "cell_type": "code",
      "source": [
        "# 3. plt.show() to clear up\n",
        "plt.show()"
      ],
      "metadata": {
        "id": "3WGJ_81yoOjn"
      },
      "execution_count": null,
      "outputs": []
    },
    {
      "cell_type": "code",
      "source": [],
      "metadata": {
        "id": "v0_9YkQ_pdkB"
      },
      "execution_count": null,
      "outputs": []
    },
    {
      "cell_type": "markdown",
      "source": [
        "## Loan data visualization"
      ],
      "metadata": {
        "id": "p8hz4KYTpy5A"
      }
    },
    {
      "cell_type": "code",
      "source": [
        "df = pd.read_csv(\"loan_data.csv\")"
      ],
      "metadata": {
        "id": "4aluWpg_p1wP"
      },
      "execution_count": 3,
      "outputs": []
    },
    {
      "cell_type": "code",
      "source": [
        "df.head()"
      ],
      "metadata": {
        "colab": {
          "base_uri": "https://localhost:8080/",
          "height": 313
        },
        "id": "7Op__xi7qDax",
        "outputId": "35287528-2c2f-47ee-cb27-84792c5adb79"
      },
      "execution_count": 5,
      "outputs": [
        {
          "output_type": "execute_result",
          "data": {
            "text/plain": [
              "                          emp_title  emp_length state homeownership  \\\n",
              "0          administrative assistant           0    FL          RENT   \n",
              "1                   sole proprietor          10    MN           OWN   \n",
              "2                  pension ananlyst          10    MD           OWN   \n",
              "3  director of corporate operations           0    MN      MORTGAGE   \n",
              "4                        dispatcher           3    TX          RENT   \n",
              "\n",
              "   debt_to_income  annual_income  open_credit_lines  total_credit_limit  \\\n",
              "0           22.51        32000.0                  4               22984   \n",
              "1            2.99        45000.0                  5              203255   \n",
              "2           21.07        90000.0                 19              154848   \n",
              "3           12.28       130000.0                 23              296496   \n",
              "4           28.97        65000.0                 28              156207   \n",
              "\n",
              "   total_credit_utilized  total_debit_limit  loan_amount  interest_rate  \\\n",
              "0                  18420               5000         2500           7.96   \n",
              "1                   1469               9000        12500           7.34   \n",
              "2                  62112              79300        13000           7.35   \n",
              "3                  77944              93600        17500           7.35   \n",
              "4                  70381              50800         8000           7.96   \n",
              "\n",
              "   installment grade   balance  paid_interest  \n",
              "0        78.30     A   2326.16          31.65  \n",
              "1       387.91     A  11559.92         218.55  \n",
              "2       403.49     A  11360.72         364.90  \n",
              "3       349.42     A  16273.90         470.99  \n",
              "4       250.55     A   7403.61         151.72  "
            ],
            "text/html": [
              "\n",
              "  <div id=\"df-3027ef12-911a-481e-9739-be2be4579e94\" class=\"colab-df-container\">\n",
              "    <div>\n",
              "<style scoped>\n",
              "    .dataframe tbody tr th:only-of-type {\n",
              "        vertical-align: middle;\n",
              "    }\n",
              "\n",
              "    .dataframe tbody tr th {\n",
              "        vertical-align: top;\n",
              "    }\n",
              "\n",
              "    .dataframe thead th {\n",
              "        text-align: right;\n",
              "    }\n",
              "</style>\n",
              "<table border=\"1\" class=\"dataframe\">\n",
              "  <thead>\n",
              "    <tr style=\"text-align: right;\">\n",
              "      <th></th>\n",
              "      <th>emp_title</th>\n",
              "      <th>emp_length</th>\n",
              "      <th>state</th>\n",
              "      <th>homeownership</th>\n",
              "      <th>debt_to_income</th>\n",
              "      <th>annual_income</th>\n",
              "      <th>open_credit_lines</th>\n",
              "      <th>total_credit_limit</th>\n",
              "      <th>total_credit_utilized</th>\n",
              "      <th>total_debit_limit</th>\n",
              "      <th>loan_amount</th>\n",
              "      <th>interest_rate</th>\n",
              "      <th>installment</th>\n",
              "      <th>grade</th>\n",
              "      <th>balance</th>\n",
              "      <th>paid_interest</th>\n",
              "    </tr>\n",
              "  </thead>\n",
              "  <tbody>\n",
              "    <tr>\n",
              "      <th>0</th>\n",
              "      <td>administrative assistant</td>\n",
              "      <td>0</td>\n",
              "      <td>FL</td>\n",
              "      <td>RENT</td>\n",
              "      <td>22.51</td>\n",
              "      <td>32000.0</td>\n",
              "      <td>4</td>\n",
              "      <td>22984</td>\n",
              "      <td>18420</td>\n",
              "      <td>5000</td>\n",
              "      <td>2500</td>\n",
              "      <td>7.96</td>\n",
              "      <td>78.30</td>\n",
              "      <td>A</td>\n",
              "      <td>2326.16</td>\n",
              "      <td>31.65</td>\n",
              "    </tr>\n",
              "    <tr>\n",
              "      <th>1</th>\n",
              "      <td>sole proprietor</td>\n",
              "      <td>10</td>\n",
              "      <td>MN</td>\n",
              "      <td>OWN</td>\n",
              "      <td>2.99</td>\n",
              "      <td>45000.0</td>\n",
              "      <td>5</td>\n",
              "      <td>203255</td>\n",
              "      <td>1469</td>\n",
              "      <td>9000</td>\n",
              "      <td>12500</td>\n",
              "      <td>7.34</td>\n",
              "      <td>387.91</td>\n",
              "      <td>A</td>\n",
              "      <td>11559.92</td>\n",
              "      <td>218.55</td>\n",
              "    </tr>\n",
              "    <tr>\n",
              "      <th>2</th>\n",
              "      <td>pension ananlyst</td>\n",
              "      <td>10</td>\n",
              "      <td>MD</td>\n",
              "      <td>OWN</td>\n",
              "      <td>21.07</td>\n",
              "      <td>90000.0</td>\n",
              "      <td>19</td>\n",
              "      <td>154848</td>\n",
              "      <td>62112</td>\n",
              "      <td>79300</td>\n",
              "      <td>13000</td>\n",
              "      <td>7.35</td>\n",
              "      <td>403.49</td>\n",
              "      <td>A</td>\n",
              "      <td>11360.72</td>\n",
              "      <td>364.90</td>\n",
              "    </tr>\n",
              "    <tr>\n",
              "      <th>3</th>\n",
              "      <td>director of corporate operations</td>\n",
              "      <td>0</td>\n",
              "      <td>MN</td>\n",
              "      <td>MORTGAGE</td>\n",
              "      <td>12.28</td>\n",
              "      <td>130000.0</td>\n",
              "      <td>23</td>\n",
              "      <td>296496</td>\n",
              "      <td>77944</td>\n",
              "      <td>93600</td>\n",
              "      <td>17500</td>\n",
              "      <td>7.35</td>\n",
              "      <td>349.42</td>\n",
              "      <td>A</td>\n",
              "      <td>16273.90</td>\n",
              "      <td>470.99</td>\n",
              "    </tr>\n",
              "    <tr>\n",
              "      <th>4</th>\n",
              "      <td>dispatcher</td>\n",
              "      <td>3</td>\n",
              "      <td>TX</td>\n",
              "      <td>RENT</td>\n",
              "      <td>28.97</td>\n",
              "      <td>65000.0</td>\n",
              "      <td>28</td>\n",
              "      <td>156207</td>\n",
              "      <td>70381</td>\n",
              "      <td>50800</td>\n",
              "      <td>8000</td>\n",
              "      <td>7.96</td>\n",
              "      <td>250.55</td>\n",
              "      <td>A</td>\n",
              "      <td>7403.61</td>\n",
              "      <td>151.72</td>\n",
              "    </tr>\n",
              "  </tbody>\n",
              "</table>\n",
              "</div>\n",
              "    <div class=\"colab-df-buttons\">\n",
              "\n",
              "  <div class=\"colab-df-container\">\n",
              "    <button class=\"colab-df-convert\" onclick=\"convertToInteractive('df-3027ef12-911a-481e-9739-be2be4579e94')\"\n",
              "            title=\"Convert this dataframe to an interactive table.\"\n",
              "            style=\"display:none;\">\n",
              "\n",
              "  <svg xmlns=\"http://www.w3.org/2000/svg\" height=\"24px\" viewBox=\"0 -960 960 960\">\n",
              "    <path d=\"M120-120v-720h720v720H120Zm60-500h600v-160H180v160Zm220 220h160v-160H400v160Zm0 220h160v-160H400v160ZM180-400h160v-160H180v160Zm440 0h160v-160H620v160ZM180-180h160v-160H180v160Zm440 0h160v-160H620v160Z\"/>\n",
              "  </svg>\n",
              "    </button>\n",
              "\n",
              "  <style>\n",
              "    .colab-df-container {\n",
              "      display:flex;\n",
              "      gap: 12px;\n",
              "    }\n",
              "\n",
              "    .colab-df-convert {\n",
              "      background-color: #E8F0FE;\n",
              "      border: none;\n",
              "      border-radius: 50%;\n",
              "      cursor: pointer;\n",
              "      display: none;\n",
              "      fill: #1967D2;\n",
              "      height: 32px;\n",
              "      padding: 0 0 0 0;\n",
              "      width: 32px;\n",
              "    }\n",
              "\n",
              "    .colab-df-convert:hover {\n",
              "      background-color: #E2EBFA;\n",
              "      box-shadow: 0px 1px 2px rgba(60, 64, 67, 0.3), 0px 1px 3px 1px rgba(60, 64, 67, 0.15);\n",
              "      fill: #174EA6;\n",
              "    }\n",
              "\n",
              "    .colab-df-buttons div {\n",
              "      margin-bottom: 4px;\n",
              "    }\n",
              "\n",
              "    [theme=dark] .colab-df-convert {\n",
              "      background-color: #3B4455;\n",
              "      fill: #D2E3FC;\n",
              "    }\n",
              "\n",
              "    [theme=dark] .colab-df-convert:hover {\n",
              "      background-color: #434B5C;\n",
              "      box-shadow: 0px 1px 3px 1px rgba(0, 0, 0, 0.15);\n",
              "      filter: drop-shadow(0px 1px 2px rgba(0, 0, 0, 0.3));\n",
              "      fill: #FFFFFF;\n",
              "    }\n",
              "  </style>\n",
              "\n",
              "    <script>\n",
              "      const buttonEl =\n",
              "        document.querySelector('#df-3027ef12-911a-481e-9739-be2be4579e94 button.colab-df-convert');\n",
              "      buttonEl.style.display =\n",
              "        google.colab.kernel.accessAllowed ? 'block' : 'none';\n",
              "\n",
              "      async function convertToInteractive(key) {\n",
              "        const element = document.querySelector('#df-3027ef12-911a-481e-9739-be2be4579e94');\n",
              "        const dataTable =\n",
              "          await google.colab.kernel.invokeFunction('convertToInteractive',\n",
              "                                                    [key], {});\n",
              "        if (!dataTable) return;\n",
              "\n",
              "        const docLinkHtml = 'Like what you see? Visit the ' +\n",
              "          '<a target=\"_blank\" href=https://colab.research.google.com/notebooks/data_table.ipynb>data table notebook</a>'\n",
              "          + ' to learn more about interactive tables.';\n",
              "        element.innerHTML = '';\n",
              "        dataTable['output_type'] = 'display_data';\n",
              "        await google.colab.output.renderOutput(dataTable, element);\n",
              "        const docLink = document.createElement('div');\n",
              "        docLink.innerHTML = docLinkHtml;\n",
              "        element.appendChild(docLink);\n",
              "      }\n",
              "    </script>\n",
              "  </div>\n",
              "\n",
              "\n",
              "<div id=\"df-af2ece00-2517-4bce-a622-857e0035f6b3\">\n",
              "  <button class=\"colab-df-quickchart\" onclick=\"quickchart('df-af2ece00-2517-4bce-a622-857e0035f6b3')\"\n",
              "            title=\"Suggest charts\"\n",
              "            style=\"display:none;\">\n",
              "\n",
              "<svg xmlns=\"http://www.w3.org/2000/svg\" height=\"24px\"viewBox=\"0 0 24 24\"\n",
              "     width=\"24px\">\n",
              "    <g>\n",
              "        <path d=\"M19 3H5c-1.1 0-2 .9-2 2v14c0 1.1.9 2 2 2h14c1.1 0 2-.9 2-2V5c0-1.1-.9-2-2-2zM9 17H7v-7h2v7zm4 0h-2V7h2v10zm4 0h-2v-4h2v4z\"/>\n",
              "    </g>\n",
              "</svg>\n",
              "  </button>\n",
              "\n",
              "<style>\n",
              "  .colab-df-quickchart {\n",
              "      --bg-color: #E8F0FE;\n",
              "      --fill-color: #1967D2;\n",
              "      --hover-bg-color: #E2EBFA;\n",
              "      --hover-fill-color: #174EA6;\n",
              "      --disabled-fill-color: #AAA;\n",
              "      --disabled-bg-color: #DDD;\n",
              "  }\n",
              "\n",
              "  [theme=dark] .colab-df-quickchart {\n",
              "      --bg-color: #3B4455;\n",
              "      --fill-color: #D2E3FC;\n",
              "      --hover-bg-color: #434B5C;\n",
              "      --hover-fill-color: #FFFFFF;\n",
              "      --disabled-bg-color: #3B4455;\n",
              "      --disabled-fill-color: #666;\n",
              "  }\n",
              "\n",
              "  .colab-df-quickchart {\n",
              "    background-color: var(--bg-color);\n",
              "    border: none;\n",
              "    border-radius: 50%;\n",
              "    cursor: pointer;\n",
              "    display: none;\n",
              "    fill: var(--fill-color);\n",
              "    height: 32px;\n",
              "    padding: 0;\n",
              "    width: 32px;\n",
              "  }\n",
              "\n",
              "  .colab-df-quickchart:hover {\n",
              "    background-color: var(--hover-bg-color);\n",
              "    box-shadow: 0 1px 2px rgba(60, 64, 67, 0.3), 0 1px 3px 1px rgba(60, 64, 67, 0.15);\n",
              "    fill: var(--button-hover-fill-color);\n",
              "  }\n",
              "\n",
              "  .colab-df-quickchart-complete:disabled,\n",
              "  .colab-df-quickchart-complete:disabled:hover {\n",
              "    background-color: var(--disabled-bg-color);\n",
              "    fill: var(--disabled-fill-color);\n",
              "    box-shadow: none;\n",
              "  }\n",
              "\n",
              "  .colab-df-spinner {\n",
              "    border: 2px solid var(--fill-color);\n",
              "    border-color: transparent;\n",
              "    border-bottom-color: var(--fill-color);\n",
              "    animation:\n",
              "      spin 1s steps(1) infinite;\n",
              "  }\n",
              "\n",
              "  @keyframes spin {\n",
              "    0% {\n",
              "      border-color: transparent;\n",
              "      border-bottom-color: var(--fill-color);\n",
              "      border-left-color: var(--fill-color);\n",
              "    }\n",
              "    20% {\n",
              "      border-color: transparent;\n",
              "      border-left-color: var(--fill-color);\n",
              "      border-top-color: var(--fill-color);\n",
              "    }\n",
              "    30% {\n",
              "      border-color: transparent;\n",
              "      border-left-color: var(--fill-color);\n",
              "      border-top-color: var(--fill-color);\n",
              "      border-right-color: var(--fill-color);\n",
              "    }\n",
              "    40% {\n",
              "      border-color: transparent;\n",
              "      border-right-color: var(--fill-color);\n",
              "      border-top-color: var(--fill-color);\n",
              "    }\n",
              "    60% {\n",
              "      border-color: transparent;\n",
              "      border-right-color: var(--fill-color);\n",
              "    }\n",
              "    80% {\n",
              "      border-color: transparent;\n",
              "      border-right-color: var(--fill-color);\n",
              "      border-bottom-color: var(--fill-color);\n",
              "    }\n",
              "    90% {\n",
              "      border-color: transparent;\n",
              "      border-bottom-color: var(--fill-color);\n",
              "    }\n",
              "  }\n",
              "</style>\n",
              "\n",
              "  <script>\n",
              "    async function quickchart(key) {\n",
              "      const quickchartButtonEl =\n",
              "        document.querySelector('#' + key + ' button');\n",
              "      quickchartButtonEl.disabled = true;  // To prevent multiple clicks.\n",
              "      quickchartButtonEl.classList.add('colab-df-spinner');\n",
              "      try {\n",
              "        const charts = await google.colab.kernel.invokeFunction(\n",
              "            'suggestCharts', [key], {});\n",
              "      } catch (error) {\n",
              "        console.error('Error during call to suggestCharts:', error);\n",
              "      }\n",
              "      quickchartButtonEl.classList.remove('colab-df-spinner');\n",
              "      quickchartButtonEl.classList.add('colab-df-quickchart-complete');\n",
              "    }\n",
              "    (() => {\n",
              "      let quickchartButtonEl =\n",
              "        document.querySelector('#df-af2ece00-2517-4bce-a622-857e0035f6b3 button');\n",
              "      quickchartButtonEl.style.display =\n",
              "        google.colab.kernel.accessAllowed ? 'block' : 'none';\n",
              "    })();\n",
              "  </script>\n",
              "</div>\n",
              "\n",
              "    </div>\n",
              "  </div>\n"
            ],
            "application/vnd.google.colaboratory.intrinsic+json": {
              "type": "dataframe",
              "variable_name": "df",
              "summary": "{\n  \"name\": \"df\",\n  \"rows\": 3000,\n  \"fields\": [\n    {\n      \"column\": \"emp_title\",\n      \"properties\": {\n        \"dtype\": \"string\",\n        \"num_unique_values\": 1746,\n        \"samples\": [\n          \"support manager\",\n          \"associate\",\n          \"sr instructional designer\"\n        ],\n        \"semantic_type\": \"\",\n        \"description\": \"\"\n      }\n    },\n    {\n      \"column\": \"emp_length\",\n      \"properties\": {\n        \"dtype\": \"number\",\n        \"std\": 3,\n        \"min\": 0,\n        \"max\": 10,\n        \"num_unique_values\": 11,\n        \"samples\": [\n          1,\n          0,\n          9\n        ],\n        \"semantic_type\": \"\",\n        \"description\": \"\"\n      }\n    },\n    {\n      \"column\": \"state\",\n      \"properties\": {\n        \"dtype\": \"category\",\n        \"num_unique_values\": 50,\n        \"samples\": [\n          \"NJ\",\n          \"WI\",\n          \"TN\"\n        ],\n        \"semantic_type\": \"\",\n        \"description\": \"\"\n      }\n    },\n    {\n      \"column\": \"homeownership\",\n      \"properties\": {\n        \"dtype\": \"category\",\n        \"num_unique_values\": 3,\n        \"samples\": [\n          \"RENT\",\n          \"OWN\",\n          \"MORTGAGE\"\n        ],\n        \"semantic_type\": \"\",\n        \"description\": \"\"\n      }\n    },\n    {\n      \"column\": \"debt_to_income\",\n      \"properties\": {\n        \"dtype\": \"number\",\n        \"std\": 16.09017166846257,\n        \"min\": 0.0,\n        \"max\": 469.09,\n        \"num_unique_values\": 2036,\n        \"samples\": [\n          32.51,\n          18.35,\n          31.64\n        ],\n        \"semantic_type\": \"\",\n        \"description\": \"\"\n      }\n    },\n    {\n      \"column\": \"annual_income\",\n      \"properties\": {\n        \"dtype\": \"number\",\n        \"std\": 56959.966873742844,\n        \"min\": 3300.0,\n        \"max\": 1050000.0,\n        \"num_unique_values\": 562,\n        \"samples\": [\n          64600.0,\n          34733.5,\n          498000.0\n        ],\n        \"semantic_type\": \"\",\n        \"description\": \"\"\n      }\n    },\n    {\n      \"column\": \"open_credit_lines\",\n      \"properties\": {\n        \"dtype\": \"number\",\n        \"std\": 5,\n        \"min\": 1,\n        \"max\": 51,\n        \"num_unique_values\": 41,\n        \"samples\": [\n          26,\n          2,\n          7\n        ],\n        \"semantic_type\": \"\",\n        \"description\": \"\"\n      }\n    },\n    {\n      \"column\": \"total_credit_limit\",\n      \"properties\": {\n        \"dtype\": \"number\",\n        \"std\": 191509,\n        \"min\": 300,\n        \"max\": 3386034,\n        \"num_unique_values\": 2906,\n        \"samples\": [\n          129010,\n          44239,\n          56083\n        ],\n        \"semantic_type\": \"\",\n        \"description\": \"\"\n      }\n    },\n    {\n      \"column\": \"total_credit_utilized\",\n      \"properties\": {\n        \"dtype\": \"number\",\n        \"std\": 54908,\n        \"min\": 0,\n        \"max\": 797760,\n        \"num_unique_values\": 2950,\n        \"samples\": [\n          70345,\n          7594,\n          24310\n        ],\n        \"semantic_type\": \"\",\n        \"description\": \"\"\n      }\n    },\n    {\n      \"column\": \"total_debit_limit\",\n      \"properties\": {\n        \"dtype\": \"number\",\n        \"std\": 25426,\n        \"min\": 0,\n        \"max\": 220900,\n        \"num_unique_values\": 823,\n        \"samples\": [\n          5800,\n          38200,\n          26600\n        ],\n        \"semantic_type\": \"\",\n        \"description\": \"\"\n      }\n    },\n    {\n      \"column\": \"loan_amount\",\n      \"properties\": {\n        \"dtype\": \"number\",\n        \"std\": 10295,\n        \"min\": 1000,\n        \"max\": 40000,\n        \"num_unique_values\": 282,\n        \"samples\": [\n          16500,\n          20800,\n          11850\n        ],\n        \"semantic_type\": \"\",\n        \"description\": \"\"\n      }\n    },\n    {\n      \"column\": \"interest_rate\",\n      \"properties\": {\n        \"dtype\": \"number\",\n        \"std\": 5.007455489666772,\n        \"min\": 5.31,\n        \"max\": 30.79,\n        \"num_unique_values\": 56,\n        \"samples\": [\n          7.96,\n          5.32,\n          18.45\n        ],\n        \"semantic_type\": \"\",\n        \"description\": \"\"\n      }\n    },\n    {\n      \"column\": \"installment\",\n      \"properties\": {\n        \"dtype\": \"number\",\n        \"std\": 292.6127427207708,\n        \"min\": 31.33,\n        \"max\": 1566.59,\n        \"num_unique_values\": 1711,\n        \"samples\": [\n          321.71,\n          713.96,\n          545.1\n        ],\n        \"semantic_type\": \"\",\n        \"description\": \"\"\n      }\n    },\n    {\n      \"column\": \"grade\",\n      \"properties\": {\n        \"dtype\": \"category\",\n        \"num_unique_values\": 7,\n        \"samples\": [\n          \"A\",\n          \"B\",\n          \"F\"\n        ],\n        \"semantic_type\": \"\",\n        \"description\": \"\"\n      }\n    },\n    {\n      \"column\": \"balance\",\n      \"properties\": {\n        \"dtype\": \"number\",\n        \"std\": 10046.346173864446,\n        \"min\": 0.0,\n        \"max\": 40000.0,\n        \"num_unique_values\": 2253,\n        \"samples\": [\n          3971.58,\n          28531.92,\n          6967.9\n        ],\n        \"semantic_type\": \"\",\n        \"description\": \"\"\n      }\n    },\n    {\n      \"column\": \"paid_interest\",\n      \"properties\": {\n        \"dtype\": \"number\",\n        \"std\": 529.227929909763,\n        \"min\": 0.0,\n        \"max\": 3485.96,\n        \"num_unique_values\": 2654,\n        \"samples\": [\n          752.42,\n          191.76,\n          756.35\n        ],\n        \"semantic_type\": \"\",\n        \"description\": \"\"\n      }\n    }\n  ]\n}"
            }
          },
          "metadata": {},
          "execution_count": 5
        }
      ]
    },
    {
      "cell_type": "code",
      "source": [
        "print(pd.unique(df[\"grade\"]))"
      ],
      "metadata": {
        "colab": {
          "base_uri": "https://localhost:8080/"
        },
        "id": "nLYlxdvqqHqW",
        "outputId": "75e74689-2c78-4c9a-f667-ba6cb77dfb27"
      },
      "execution_count": 6,
      "outputs": [
        {
          "output_type": "stream",
          "name": "stdout",
          "text": [
            "['A' 'B' 'C' 'D' 'E' 'F' 'G']\n"
          ]
        }
      ]
    },
    {
      "cell_type": "code",
      "source": [
        "df[\"grade\"].value_counts().plot(kind = \"bar\", color = \"skyblue\")"
      ],
      "metadata": {
        "colab": {
          "base_uri": "https://localhost:8080/",
          "height": 463
        },
        "id": "_mw8Fw9_qtsp",
        "outputId": "1f3d2881-3f3c-489e-9065-9a7d49553dd6"
      },
      "execution_count": 9,
      "outputs": [
        {
          "output_type": "execute_result",
          "data": {
            "text/plain": [
              "<Axes: xlabel='grade'>"
            ]
          },
          "metadata": {},
          "execution_count": 9
        },
        {
          "output_type": "display_data",
          "data": {
            "text/plain": [
              "<Figure size 640x480 with 1 Axes>"
            ],
            "image/png": "[encoded data removed]"
          },
          "metadata": {}
        }
      ]
    },
    {
      "cell_type": "code",
      "source": [
        "sorted_grade = df[\"grade\"].value_counts().sort_index()\n",
        "\n",
        "sorted_grade.plot(kind = \"bar\", color = \"skyblue\")"
      ],
      "metadata": {
        "colab": {
          "base_uri": "https://localhost:8080/",
          "height": 463
        },
        "id": "xxLoLpsQq7X3",
        "outputId": "1fed09fe-b1a8-4016-8e14-f246bb2ad221"
      },
      "execution_count": 10,
      "outputs": [
        {
          "output_type": "execute_result",
          "data": {
            "text/plain": [
              "<Axes: xlabel='grade'>"
            ]
          },
          "metadata": {},
          "execution_count": 10
        },
        {
          "output_type": "display_data",
          "data": {
            "text/plain": [
              "<Figure size 640x480 with 1 Axes>"
            ],
            "image/png": "[encoded data removed]"
          },
          "metadata": {}
        }
      ]
    },
    {
      "cell_type": "code",
      "source": [
        "sorted_grades = df[\"grade\"].value_counts().sort_index()\n",
        "\n",
        "sorted_grades.plot(kind=\"bar\", color = \"skyblue\")\n",
        "plt.title(\"Freq of Loan by Grades\")\n",
        "plt.xlabel('Grades')\n",
        "plt.ylabel(\"Frequency\")\n",
        "plt.show()"
      ],
      "metadata": {
        "colab": {
          "base_uri": "https://localhost:8080/",
          "height": 468
        },
        "id": "Bj7Hqci1r8Cr",
        "outputId": "4a8544ae-4c9c-4ab4-ab58-3764b84221cc"
      },
      "execution_count": 15,
      "outputs": [
        {
          "output_type": "display_data",
          "data": {
            "text/plain": [
              "<Figure size 640x480 with 1 Axes>"
            ],
            "image/png": "[encoded data removed]"
          },
          "metadata": {}
        }
      ]
    },
    {
      "cell_type": "code",
      "source": [
        "sort_grad = df[\"grade\"].value_counts().sort_index()\n",
        "\n",
        "sort_grad.plot(kind = \"bar\", color = \"skyblue\")\n",
        "plt.title(\"Freq of Loan by Grades\")\n",
        "plt.xlabel(\"\")\n",
        "plt.ylabel(\"Feq\", fontsize = 14)\n",
        "plt.grid(axis = \"y\", color = \"black\", alpha = 0.4, linestyle = \"--\")\n",
        "plt.show()"
      ],
      "metadata": {
        "colab": {
          "base_uri": "https://localhost:8080/",
          "height": 449
        },
        "id": "6g1wBMOouePF",
        "outputId": "081196f7-b360-4914-ddb7-770396b2126c"
      },
      "execution_count": 27,
      "outputs": [
        {
          "output_type": "display_data",
          "data": {
            "text/plain": [
              "<Figure size 640x480 with 1 Axes>"
            ],
            "image/png": "[encoded data removed]"
          },
          "metadata": {}
        }
      ]
    },
    {
      "cell_type": "code",
      "source": [
        "sort_grad = df[\"grade\"].value_counts().sort_index()\n",
        "sort_grad.plot(kind = \"bar\", color = \"skyblue\")\n",
        "plt.title(\"Freq of Loan by Grades\", fontsize = 16, fontweight = \"bold\", pad = 15) # pad the dist betw top and title\n",
        "plt.xlabel(\"\")\n",
        "plt.ylabel(\"Freq\", fontsize = 14)\n",
        "plt.grid(axis = \"y\", color = \"black\", alpha = 0.3, linestyle = \"--\")\n",
        "\n"
      ],
      "metadata": {
        "colab": {
          "base_uri": "https://localhost:8080/",
          "height": 463
        },
        "id": "BKCoE7Vzvw2d",
        "outputId": "28d9e998-d020-4e44-842d-dd1ad81d5a7f"
      },
      "execution_count": 29,
      "outputs": [
        {
          "output_type": "display_data",
          "data": {
            "text/plain": [
              "<Figure size 640x480 with 1 Axes>"
            ],
            "image/png": "[encoded data removed]"
          },
          "metadata": {}
        }
      ]
    },
    {
      "cell_type": "code",
      "source": [
        "ax = sorted_grades.plot(kind=\"bar\",\n",
        "                        color=\"skyblue\")\n",
        "plt.title(\"Frequency of Loan by Grade\", fontsize=16, fontweight=\"bold\", pad=15)\n",
        "plt.xlabel(\"\") # empty string removes x label\n",
        "plt.ylabel(\"\")\n",
        "plt.annotate(text=\"Loans Grade E and below \\nare very high risk.\",\n",
        "             xy=(4, 50), # where arrow pointing at the coordinate (4, 50)\n",
        "             xytext=(-10, 30), # place the text 10 points to the left and 30 points up from the arrow point.\n",
        "             textcoords=\"offset points\", # tells Matplotlib to interpret xytext as an offset in points rather than data coordinates\n",
        "             arrowprops=dict(facecolor='black', arrowstyle='->')\n",
        "            )\n",
        "\n",
        "ax.spines[\"top\"].set_visible(False)\n",
        "ax.spines[\"right\"].set_visible(False)"
      ],
      "metadata": {
        "colab": {
          "base_uri": "https://localhost:8080/",
          "height": 463
        },
        "id": "P6sZQ8iqxRSZ",
        "outputId": "1d2a0373-0b36-426e-f03c-929827cb82b0"
      },
      "execution_count": 34,
      "outputs": [
        {
          "output_type": "display_data",
          "data": {
            "text/plain": [
              "<Figure size 640x480 with 1 Axes>"
            ],
            "image/png": "[encoded data removed]"
          },
          "metadata": {}
        }
      ]
    }
  ]
}